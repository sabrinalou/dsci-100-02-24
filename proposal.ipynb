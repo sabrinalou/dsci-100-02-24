{
 "cells": [
  {
   "cell_type": "markdown",
   "id": "15047cf8-0710-4a29-a7c7-e1457d5359e8",
   "metadata": {},
   "source": [
    "Title"
   ]
  },
  {
   "cell_type": "markdown",
   "id": "5b9c27a8-497e-4c66-a91c-721b9995e7da",
   "metadata": {},
   "source": [
    "Introduction\n",
    "\n",
    "Provide some relevant background information on the topic so that someone unfamiliar with it will be prepared to understand the rest of your proposal\n",
    "\n",
    "The dataset is related to red  variant of the Portuguese \"Vinho Verde\" wine.\n",
    "\n",
    "We use this dataset to answer the question \" Which physiochemical properties make a wine 'good'.\"\n",
    "\n",
    "There are 12 variables in this dataset:\n",
    "\n",
    "\n",
    "\n",
    "      Input variables (based on physicochemical tests):\n",
    "\n",
    "            1 - fixed acidity \n",
    "\n",
    "\n",
    "\n",
    "            2 - volatile acidity \n",
    "\n",
    "\n",
    "\n",
    "            3 - citric acid \n",
    "\n",
    "\n",
    "\n",
    "            4 - residual sugar \n",
    "\n",
    "\n",
    "\n",
    "            5 - chlorides \n",
    "\n",
    "\n",
    "\n",
    "            6 - free sulfur dioxide \n",
    "\n",
    "\n",
    "\n",
    "            7 - total sulfur dioxide \n",
    "\n",
    "\n",
    "\n",
    "            8 - density \n",
    "\n",
    "\n",
    "\n",
    "            9 - pH \n",
    "\n",
    "\n",
    "\n",
    "            10 - sulphates \n",
    "\n",
    "\n",
    "\n",
    "            11 - alcohol \n",
    "\n",
    "\n",
    "\n",
    "      Output variable (based on sensory rating): \n",
    "\n",
    "\n",
    "\n",
    "            12 - quality (score between 0 and 10) \n",
    "\n",
    "**Question: how can we use this dataset so that a business can predict the quality of wine they produce based on its chemical composition.**\n",
    "Clearly state the question you will try to answer with your project\n",
    "Identify and describe the dataset that will be used to answer the question"
   ]
  },
  {
   "cell_type": "markdown",
   "id": "fa1d5486-40f2-4b9a-910b-1763ddcaa7cf",
   "metadata": {},
   "source": [
    "Preliminary exploratory data analysis\n",
    "\n",
    "Demonstrate that the dataset can be read from the web into R \n",
    "Clean and wrangle your data into a tidy format\n",
    "Using only training data, summarize the data in at least one table (this is exploratory data analysis). An example of a useful table could be one that reports the number of observations in each class, the means of the predictor variables you plan to use in your analysis and how many rows have missing data. \n",
    "Using only training data, visualize the data with at least one plot relevant to the analysis you plan to do (this is exploratory data analysis). An example of a useful visualization could be one that compares the distributions of each of the predictor variables you plan to use in your analysis."
   ]
  },
  {
   "cell_type": "markdown",
   "id": "fb57501f-bc03-480f-8aed-1f0ad311d9e4",
   "metadata": {},
   "source": [
    "Methods\n",
    "Explain how you will conduct either your data analysis and which variables/columns you will use. Note - you do not need to use all variables/columns that exist in the raw data set. In fact, that's often not a good idea. For each variable think: is this a useful variable for prediction?\n",
    "Describe at least one way that you will visualize the results"
   ]
  },
  {
   "cell_type": "markdown",
   "id": "fdec61cc-c784-4bfa-8df4-11238248101c",
   "metadata": {},
   "source": [
    "Expected outcomes and significance\n",
    "What do you expect to find?\n",
    "What impact could such findings have?\n",
    "What future questions could this lead to?"
   ]
  },
  {
   "cell_type": "code",
   "execution_count": 2,
   "id": "bb36fd85-058f-4256-9566-0cdd1f420c7a",
   "metadata": {},
   "outputs": [
    {
     "name": "stderr",
     "output_type": "stream",
     "text": [
      "\u001b[36mℹ\u001b[39m Using \u001b[34m\u001b[34m\"','\"\u001b[34m\u001b[39m as decimal and \u001b[34m\u001b[34m\"'.'\"\u001b[34m\u001b[39m as grouping mark. Use `read_delim()` for more control.\n",
      "\n",
      "Warning message:\n",
      "“One or more parsing issues, see `problems()` for details”\n",
      "\u001b[1mRows: \u001b[22m\u001b[34m1599\u001b[39m \u001b[1mColumns: \u001b[22m\u001b[34m12\u001b[39m\n",
      "\u001b[36m──\u001b[39m \u001b[1mColumn specification\u001b[22m \u001b[36m────────────────────────────────────────────────────────\u001b[39m\n",
      "\u001b[1mDelimiter:\u001b[22m \";\"\n",
      "\u001b[31mchr\u001b[39m (5): volatile acidity, citric acid, chlorides, density, sulphates\n",
      "\u001b[32mdbl\u001b[39m (2): total sulfur dioxide, quality\n",
      "\n",
      "\u001b[36mℹ\u001b[39m Use `spec()` to retrieve the full column specification for this data.\n",
      "\u001b[36mℹ\u001b[39m Specify the column types or set `show_col_types = FALSE` to quiet this message.\n"
     ]
    }
   ],
   "source": [
    "library(tidyverse)\n",
    "library(repr)\n",
    "wine_quality <- read_csv2(\"data/winequality-red.csv\")\n",
    "wine_quality"
   ]
  },
  {
   "cell_type": "code",
   "execution_count": null,
   "id": "70798275-5a10-4032-a86d-6b21e2caa171",
   "metadata": {},
   "outputs": [],
   "source": []
  }
 ],
 "metadata": {
  "kernelspec": {
   "display_name": "R",
   "language": "R",
   "name": "ir"
  },
  "language_info": {
   "codemirror_mode": "r",
   "file_extension": ".r",
   "mimetype": "text/x-r-source",
   "name": "R",
   "pygments_lexer": "r",
   "version": "4.1.3"
  }
 },
 "nbformat": 4,
 "nbformat_minor": 5
}
